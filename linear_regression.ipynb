{
 "cells": [
  {
   "cell_type": "markdown",
   "metadata": {},
   "source": [
    "___\n",
    "\n",
    "___\n",
    "# Technical Inteview: Linear Regression \n",
    "Using the given Ecommerce dataset ('Ecommerce Customers'), conduct a linear regression in order to derive insight to the following business problem.\n",
    "\n",
    "A company is trying to decide whether to focus their efforts on their mobile app experience or their website. \n",
    "Explore the dataset perform a Linear Regression and be able to cleary discuss the insights and results from the analysis\n"
   ]
  },
  {
   "cell_type": "markdown",
   "metadata": {},
   "source": [
    "### Note\n",
    " Make sure to set \"%matplotlib inline\" for the best notebook experience\n"
   ]
  },
  {
   "cell_type": "markdown",
   "metadata": {},
   "source": []
  }
 ],
 "metadata": {
  "kernelspec": {
   "display_name": "Python 3",
   "language": "python",
   "name": "python3"
  },
  "language_info": {
   "codemirror_mode": {
    "name": "ipython",
    "version": 3
   },
   "file_extension": ".py",
   "mimetype": "text/x-python",
   "name": "python",
   "nbconvert_exporter": "python",
   "pygments_lexer": "ipython3",
   "version": "3.6.2"
  }
 },
 "nbformat": 4,
 "nbformat_minor": 1
}
