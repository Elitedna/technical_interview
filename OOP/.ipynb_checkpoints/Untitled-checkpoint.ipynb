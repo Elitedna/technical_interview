{
 "cells": [
  {
   "cell_type": "markdown",
   "id": "008e6ca0",
   "metadata": {},
   "source": [
    "# Payroll Program"
   ]
  },
  {
   "cell_type": "markdown",
   "id": "42850d0c",
   "metadata": {},
   "source": [
    "Design and structure a program that will be used to pay providers (employees) based on how many clients they have seen within the given dataset; The program should be able to output a \"paystub\" like excel/csv file per each provider, resulting in how many patients were seen per each procedure code with the correlating rates, and totals.\n",
    "\n",
    "This program should also output a compiled report of the providers name and how much we \n",
    "should pay them.\n",
    "\n",
    "Special attention should be focused on the cases where providers maybe missing with the data.\n",
    "\n",
    "### Provided Files\n",
    "1) The provided dataset, is a list of all claims that were billed for the appts our providers have completed in the last pay period.\n",
    "\n",
    "2) rates.py will be the \"configuration file\" that holds rate informations per providers, licensure status and a \"other\" dictionary that allows for us to configure proivders to a uncommon pay structure\n",
    "\n",
    "### Compensation is based on 3 attributes\n",
    "#### 1) Type of Procedure Code\n",
    "This is a code that is used to bill the insurance, based on what service was delivered to the patient.\n",
    "#### 2) The patients Insurance\n",
    "Most times the providers will be paid the same per each insurance. However your program/design should be able to take in special configurations if needed.\n",
    "Medicare pays out different rates then other commercial insurances.\n",
    "#### 3) The licensure status of the provider.\n",
    "Providers are either licensed or unlicensed. The rates per procedure code differ between the two.\n"
   ]
  }
 ],
 "metadata": {
  "kernelspec": {
   "display_name": "Python 3",
   "language": "python",
   "name": "python3"
  },
  "language_info": {
   "codemirror_mode": {
    "name": "ipython",
    "version": 3
   },
   "file_extension": ".py",
   "mimetype": "text/x-python",
   "name": "python",
   "nbconvert_exporter": "python",
   "pygments_lexer": "ipython3",
   "version": "3.8.8"
  }
 },
 "nbformat": 4,
 "nbformat_minor": 5
}
